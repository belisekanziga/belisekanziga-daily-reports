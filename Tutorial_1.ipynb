{
 "cells": [
  {
   "cell_type": "markdown",
   "id": "426486dd",
   "metadata": {
    "id": "426486dd"
   },
   "source": [
    "\n",
    "\n",
    "# Practical_1: Variables and Assignments"
   ]
  },
  {
   "cell_type": "markdown",
   "id": "10714141-8f06-466e-9d70-4e84c833a460",
   "metadata": {
    "id": "9fb19f0d"
   },
   "source": [
    "----\n",
    "\n",
    "### Exercise 1:\n",
    "Declare a variable `x` and assign it the value `10`.\n",
    "\n",
    "```python\n",
    "# Exercise 1\n",
    "```"
   ]
  },
  {
   "cell_type": "code",
   "execution_count": null,
   "id": "861a9cf3-8d43-42a0-9a78-c2df398ad1af",
   "metadata": {},
   "outputs": [],
   "source": [
    "x = 10"
   ]
  },
  {
   "cell_type": "markdown",
   "id": "0d67d8c2-2fc4-48cf-82ad-3ea5707b172b",
   "metadata": {
    "id": "9fb19f0d"
   },
   "source": [
    "---\n",
    "\n",
    "### Exercise 2:\n",
    "Assign the value `True` to a variable called `is_valid`.\n",
    "\n",
    "```python\n",
    "# Exercise 2\n",
    "```"
   ]
  },
  {
   "cell_type": "code",
   "execution_count": 3,
   "id": "f5d015d4-d02e-478a-b50d-c23b1ebd45d7",
   "metadata": {},
   "outputs": [
    {
     "data": {
      "text/plain": [
       "True"
      ]
     },
     "execution_count": 3,
     "metadata": {},
     "output_type": "execute_result"
    }
   ],
   "source": [
    "is_valid = True\n",
    "is_valid"
   ]
  },
  {
   "cell_type": "markdown",
   "id": "95963908-c2ab-42f8-8c4b-ac64b8fd1965",
   "metadata": {
    "id": "9fb19f0d"
   },
   "source": [
    "---\n",
    "\n",
    "### Exercise 3:\n",
    "Create a string variable `name` with the value \"Python Programming\".\n",
    "\n",
    "```python\n",
    "# Exercise 3\n",
    "```"
   ]
  },
  {
   "cell_type": "code",
   "execution_count": 2,
   "id": "c21c8865-7724-4453-bd31-2196ac876ac0",
   "metadata": {},
   "outputs": [
    {
     "data": {
      "text/plain": [
       "'python programming'"
      ]
     },
     "execution_count": 2,
     "metadata": {},
     "output_type": "execute_result"
    }
   ],
   "source": [
    "name = \"python programming\"\n",
    "name"
   ]
  },
  {
   "cell_type": "markdown",
   "id": "d41aa198-0031-4a06-b5e3-66e6cf465d7b",
   "metadata": {
    "id": "9fb19f0d"
   },
   "source": [
    "---\n",
    "\n",
    "### Exercise 4:\n",
    "Assign the result of `5 + 3` to a variable `sum_result`.\n",
    "\n",
    "```python\n",
    "# Exercise 4\n",
    "```"
   ]
  },
  {
   "cell_type": "code",
   "execution_count": 6,
   "id": "e832a073-efc4-4394-a550-7fdac45c0277",
   "metadata": {},
   "outputs": [
    {
     "data": {
      "text/plain": [
       "8"
      ]
     },
     "execution_count": 6,
     "metadata": {},
     "output_type": "execute_result"
    }
   ],
   "source": [
    "sum_result = 5 + 3\n",
    "sum_result\n",
    "x = 5\n",
    "y = 3\n",
    "sum_result=x+y\n",
    "\n",
    "sum_result"
   ]
  },
  {
   "cell_type": "markdown",
   "id": "48d1c366-ded0-4ffb-8a33-7518ee73c107",
   "metadata": {
    "id": "9fb19f0d"
   },
   "source": [
    "---\n",
    "\n",
    "### Exercise 5:\n",
    "Assign multiple variables in one line: `a = 5`, `b = 10`, `c = 15`.\n",
    "\n",
    "```python\n",
    "# Exercise 5\n",
    "```"
   ]
  },
  {
   "cell_type": "code",
   "execution_count": 10,
   "id": "7e3ddb69-67cd-4fc9-a7b5-ec3acbd002d0",
   "metadata": {},
   "outputs": [
    {
     "name": "stdout",
     "output_type": "stream",
     "text": [
      "30\n"
     ]
    }
   ],
   "source": [
    "a,b,c = 5,10,15\n",
    "a,b,c\n",
    "print (a + b + c)"
   ]
  },
  {
   "cell_type": "markdown",
   "id": "1b4f644b-884e-497c-af4e-2032bda41384",
   "metadata": {
    "id": "9fb19f0d"
   },
   "source": [
    "---\n",
    "\n",
    "### Exercise 6:\n",
    "Assign the value of one variable `x` to another variable `y`.\n",
    "\n",
    "```python\n",
    "# Exercise 6\n",
    "```"
   ]
  },
  {
   "cell_type": "code",
   "execution_count": 12,
   "id": "d2ec37fa-39b4-48ef-8982-ba87dcb27edb",
   "metadata": {},
   "outputs": [
    {
     "name": "stdout",
     "output_type": "stream",
     "text": [
      "7 7\n"
     ]
    }
   ],
   "source": [
    "x = y = 7\n",
    "print (x , y)"
   ]
  },
  {
   "cell_type": "markdown",
   "id": "9a66992a-ee31-43d5-912c-fc72c12e2c3d",
   "metadata": {
    "id": "9fb19f0d"
   },
   "source": [
    "---\n",
    "\n",
    "### Exercise 7:\n",
    "Assign a floating-point number `9.8` to a variable `gravity`.\n",
    "\n",
    "```python\n",
    "# Exercise 7\n",
    "```"
   ]
  },
  {
   "cell_type": "code",
   "execution_count": 16,
   "id": "1f4b651c-6ee1-42a5-9c8b-299a2f0682e6",
   "metadata": {},
   "outputs": [
    {
     "name": "stdout",
     "output_type": "stream",
     "text": [
      "<class 'float'>\n"
     ]
    }
   ],
   "source": [
    "gravity = 9.8\n",
    "print (type(gravity))"
   ]
  },
  {
   "cell_type": "markdown",
   "id": "db9bf004-8f80-4880-adf6-d1601b947f1a",
   "metadata": {
    "id": "9fb19f0d"
   },
   "source": [
    "---\n",
    "\n",
    "### Exercise 8:\n",
    "Create a variable `country` and assign it the string value of your favorite country.\n",
    "\n",
    "```python\n",
    "# Exercise 8\n",
    "```"
   ]
  },
  {
   "cell_type": "code",
   "execution_count": null,
   "id": "ede695e1-cd0a-445b-bb81-1dd5958b26e7",
   "metadata": {},
   "outputs": [],
   "source": [
    "country = Rwanda\n"
   ]
  },
  {
   "cell_type": "markdown",
   "id": "8df8672c-cad9-4116-bbc4-df3404282c3a",
   "metadata": {
    "id": "9fb19f0d"
   },
   "source": [
    "---\n",
    "\n",
    "### Exercise 9:\n",
    "Change the value of variable `age` from `25` to `26` in two separate steps.\n",
    "\n",
    "```python\n",
    "# Exercise 9\n",
    "```"
   ]
  },
  {
   "cell_type": "code",
   "execution_count": 20,
   "id": "62266889-559a-4dc9-86a2-81861f2af3c5",
   "metadata": {},
   "outputs": [
    {
     "name": "stdout",
     "output_type": "stream",
     "text": [
      "26\n"
     ]
    }
   ],
   "source": [
    "age = 25\n",
    "age +=1\n",
    "print(age)"
   ]
  },
  {
   "cell_type": "code",
   "execution_count": 22,
   "id": "8b6c122b-c605-4d62-976d-dcf71114d6d5",
   "metadata": {},
   "outputs": [
    {
     "name": "stdout",
     "output_type": "stream",
     "text": [
      "26\n"
     ]
    }
   ],
   "source": [
    "age = 25\n",
    "age1 =26\n",
    "age = age1\n",
    "print(age)"
   ]
  },
  {
   "cell_type": "markdown",
   "id": "592754c4-6de4-4d07-a5f1-cec1e6dd9a97",
   "metadata": {
    "id": "9fb19f0d"
   },
   "source": [
    "---\n",
    "\n",
    "### Exercise 10:\n",
    "Use one variable to store the result of subtracting two numbers `20 - 7`.\n",
    "\n",
    "```python\n",
    "# Exercise 10\n",
    "```"
   ]
  },
  {
   "cell_type": "code",
   "execution_count": 21,
   "id": "082992f6-9c41-49eb-8b87-6010c412c50a",
   "metadata": {},
   "outputs": [
    {
     "data": {
      "text/plain": [
       "13"
      ]
     },
     "execution_count": 21,
     "metadata": {},
     "output_type": "execute_result"
    }
   ],
   "source": [
    "x = 20-7\n",
    "x\n",
    "y=20\n",
    "z=7\n",
    "w=y-z"
   ]
  },
  {
   "cell_type": "markdown",
   "id": "47202e0f-5468-48ff-911e-af3929633f66",
   "metadata": {
    "id": "9fb19f0d"
   },
   "source": [
    "---\n",
    "\n",
    "### Exercise 11:\n",
    "Assign an integer value and a floating-point value to two different variables.\n",
    "\n",
    "```python\n",
    "# Exercise 11\n",
    "```"
   ]
  },
  {
   "cell_type": "code",
   "execution_count": null,
   "id": "6b7757ec-e4ee-44d9-96c5-5648d625018b",
   "metadata": {},
   "outputs": [],
   "source": [
    "a = 3\n",
    "b =4.3"
   ]
  },
  {
   "cell_type": "code",
   "execution_count": null,
   "id": "cd411ad5-fe2e-4bc5-b208-f97d3cb5dc52",
   "metadata": {
    "id": "9fb19f0d"
   },
   "outputs": [],
   "source": [
    "---\n",
    "\n",
    "### Exercise 12:\n",
    "Assign a boolean value `False` to a variable `is_completed`.\n",
    "\n",
    "```python\n",
    "# Exercise 12\n",
    "```"
   ]
  },
  {
   "cell_type": "code",
   "execution_count": 25,
   "id": "21126073-373e-4efa-8909-6df125fce4f2",
   "metadata": {},
   "outputs": [
    {
     "name": "stdout",
     "output_type": "stream",
     "text": [
      "False\n"
     ]
    }
   ],
   "source": [
    "is_completed = False\n",
    "is_completed = 5 < 3\n",
    "print(is_completed)\n"
   ]
  },
  {
   "cell_type": "code",
   "execution_count": null,
   "id": "aacd4fae-e8e6-40e3-851d-4862b0a4d25d",
   "metadata": {
    "id": "9fb19f0d"
   },
   "outputs": [],
   "source": [
    "---\n",
    "\n",
    "### Exercise 13:\n",
    "Swap the values of two variables `x` and `y`.\n",
    "\n",
    "```python\n",
    "# Exercise 13\n",
    "```"
   ]
  },
  {
   "cell_type": "code",
   "execution_count": 26,
   "id": "be7a095f-290c-4dda-a9e1-7084cc005632",
   "metadata": {},
   "outputs": [
    {
     "name": "stdout",
     "output_type": "stream",
     "text": [
      "5 4\n"
     ]
    }
   ],
   "source": [
    "x = 4\n",
    "y = 5\n",
    "x = y \n",
    "y = x - 1\n",
    "print(x,y)"
   ]
  },
  {
   "cell_type": "code",
   "execution_count": null,
   "id": "32c0b48e-0d52-415b-957f-c968314b9453",
   "metadata": {
    "id": "9fb19f0d"
   },
   "outputs": [],
   "source": [
    "---\n",
    "\n",
    "### Exercise 14:\n",
    "Assign a complex number `3 + 4j` to a variable `complex_num`.\n",
    "\n",
    "```python\n",
    "# Exercise 14\n",
    "```"
   ]
  },
  {
   "cell_type": "code",
   "execution_count": 29,
   "id": "e1d50a86-1e27-42ac-8589-5d23d402fe28",
   "metadata": {},
   "outputs": [
    {
     "name": "stdout",
     "output_type": "stream",
     "text": [
      "(3+4j)\n"
     ]
    },
    {
     "data": {
      "text/plain": [
       "complex"
      ]
     },
     "execution_count": 29,
     "metadata": {},
     "output_type": "execute_result"
    }
   ],
   "source": [
    "complex_num = 3 + 4j\n",
    "print(complex_num)\n",
    "type(complex_num)"
   ]
  },
  {
   "cell_type": "code",
   "execution_count": null,
   "id": "910e3017-bb76-4d71-92f3-0cb90dc148e1",
   "metadata": {
    "id": "9fb19f0d"
   },
   "outputs": [],
   "source": [
    "---\n",
    "\n",
    "### Exercise 15:\n",
    "Reassign a variable from an integer to a string.\n",
    "\n",
    "```python\n",
    "# Exercise 15\n",
    "```"
   ]
  },
  {
   "cell_type": "code",
   "execution_count": 32,
   "id": "2a7ce616-e6a7-4dad-8314-d83a7cf3b441",
   "metadata": {},
   "outputs": [
    {
     "data": {
      "text/plain": [
       "str"
      ]
     },
     "execution_count": 32,
     "metadata": {},
     "output_type": "execute_result"
    }
   ],
   "source": [
    "ass = 3\n",
    "st = str(ass)\n",
    "type(st)"
   ]
  },
  {
   "cell_type": "code",
   "execution_count": null,
   "id": "745ee182-4b12-47bc-97d6-ed0c3536e955",
   "metadata": {
    "id": "9fb19f0d"
   },
   "outputs": [],
   "source": [
    "---\n",
    "\n",
    "### Exercise 16:\n",
    "Create two variables `first_name` and `last_name`, and assign them your first and last names.\n",
    "\n",
    "```python\n",
    "# Exercise 16\n",
    "```"
   ]
  },
  {
   "cell_type": "code",
   "execution_count": 42,
   "id": "910d4e9c-1979-418d-84ea-409777db32e1",
   "metadata": {},
   "outputs": [
    {
     "name": "stdout",
     "output_type": "stream",
     "text": [
      "my name is belise kanziga\n"
     ]
    }
   ],
   "source": [
    "first_name = \"belise \"\n",
    "last_name = \"kanziga\"\n",
    "full_name = first_name + last_name\n",
    "print(\"my name is \"+full_name)"
   ]
  },
  {
   "cell_type": "code",
   "execution_count": null,
   "id": "bfa2ec99-6081-4b76-91e1-1845d0ed29f7",
   "metadata": {
    "id": "9fb19f0d"
   },
   "outputs": [],
   "source": [
    "---\n",
    "\n",
    "### Exercise 17:\n",
    "Create a variable `temperature` and assign it the value of `35.5`.\n",
    "\n",
    "```python\n",
    "# Exercise 17\n",
    "```"
   ]
  },
  {
   "cell_type": "code",
   "execution_count": null,
   "id": "0b3cbcb6-58a7-42cf-95df-28aa1792a1c4",
   "metadata": {},
   "outputs": [],
   "source": [
    "temperature = 35.5"
   ]
  },
  {
   "cell_type": "code",
   "execution_count": null,
   "id": "39d1ae70-1188-4134-8420-9299f181b93d",
   "metadata": {
    "id": "9fb19f0d"
   },
   "outputs": [],
   "source": [
    "---\n",
    "\n",
    "### Exercise 18:\n",
    "Assign the result of the multiplication of two numbers `8 * 6` to a variable `product`.\n",
    "\n",
    "```python\n",
    "# Exercise 18\n",
    "```"
   ]
  },
  {
   "cell_type": "code",
   "execution_count": 44,
   "id": "5276167c-3f7a-4601-9a16-9bd004ee7bb9",
   "metadata": {},
   "outputs": [
    {
     "data": {
      "text/plain": [
       "48"
      ]
     },
     "execution_count": 44,
     "metadata": {},
     "output_type": "execute_result"
    }
   ],
   "source": [
    "product = 8 * 6\n",
    "product"
   ]
  },
  {
   "cell_type": "code",
   "execution_count": null,
   "id": "d52bb9cf-f253-4155-be4f-c7c695b07a53",
   "metadata": {
    "id": "9fb19f0d"
   },
   "outputs": [],
   "source": [
    "---\n",
    "\n",
    "### Exercise 19:\n",
    "Assign a sentence of your choice to a variable `sentence`.\n",
    "\n",
    "```python\n",
    "# Exercise 19\n",
    "```"
   ]
  },
  {
   "cell_type": "code",
   "execution_count": 47,
   "id": "51454969-9ef5-4f12-ad9e-3f68c45d2108",
   "metadata": {},
   "outputs": [
    {
     "data": {
      "text/plain": [
       "'my name is Belise KANZIGA'"
      ]
     },
     "execution_count": 47,
     "metadata": {},
     "output_type": "execute_result"
    }
   ],
   "source": [
    "sentense = \"my name is Belise KANZIGA\"\n",
    "sentense"
   ]
  },
  {
   "cell_type": "code",
   "execution_count": null,
   "id": "8be57f0a-0776-474a-891f-3d797f93a490",
   "metadata": {
    "id": "9fb19f0d"
   },
   "outputs": [],
   "source": [
    "---\n",
    "\n",
    "### Exercise 20:\n",
    "Use an assignment to convert a string `'50'` into an integer variable `int_value`.\n",
    "\n",
    "```python\n",
    "# Exercise 20\n",
    "```"
   ]
  },
  {
   "cell_type": "code",
   "execution_count": 48,
   "id": "d3fa70a1-bb3e-4410-a991-a66bc78c21f1",
   "metadata": {},
   "outputs": [
    {
     "data": {
      "text/plain": [
       "20"
      ]
     },
     "execution_count": 48,
     "metadata": {},
     "output_type": "execute_result"
    }
   ],
   "source": [
    "int_value = 20\n",
    "int_value"
   ]
  },
  {
   "cell_type": "code",
   "execution_count": null,
   "id": "adfb1217-d6d3-43dd-8b3e-f11507ef02e4",
   "metadata": {
    "id": "9fb19f0d"
   },
   "outputs": [],
   "source": [
    "---\n",
    "\n",
    "### Exercise 21:\n",
    "Assign the result of dividing `144` by `12` to a variable `quotient`.\n",
    "\n",
    "```python\n",
    "# Exercise 21\n",
    "```"
   ]
  },
  {
   "cell_type": "code",
   "execution_count": 50,
   "id": "4fce4dd8-9e2e-4329-af77-377f1ad30077",
   "metadata": {},
   "outputs": [
    {
     "name": "stdout",
     "output_type": "stream",
     "text": [
      "12.0\n"
     ]
    }
   ],
   "source": [
    "quotient = 144 / 12\n",
    "print(quotient)"
   ]
  },
  {
   "cell_type": "code",
   "execution_count": null,
   "id": "1322f345-eb98-467a-add7-97dea3af40dc",
   "metadata": {
    "id": "9fb19f0d"
   },
   "outputs": [],
   "source": [
    "---\n",
    "\n",
    "### Exercise 22:\n",
    "Assign the remainder of `47 divided by 5` to a variable `remainder`.\n",
    "\n",
    "```python\n",
    "# Exercise 22\n",
    "```"
   ]
  },
  {
   "cell_type": "code",
   "execution_count": 52,
   "id": "e97db38b-62e4-49ef-8f69-95e6cee859ae",
   "metadata": {},
   "outputs": [
    {
     "name": "stdout",
     "output_type": "stream",
     "text": [
      "2\n"
     ]
    }
   ],
   "source": [
    "remainder = 47 % 5\n",
    "print(remainder)"
   ]
  },
  {
   "cell_type": "code",
   "execution_count": null,
   "id": "f4f4fde7-68fb-45d9-a89d-2f69617908e6",
   "metadata": {
    "id": "9fb19f0d"
   },
   "outputs": [],
   "source": [
    "---\n",
    "\n",
    "### Exercise 23:\n",
    "Create a variable `is_student` and assign it the value `True`.\n",
    "\n",
    "```python\n",
    "# Exercise 23\n",
    "```"
   ]
  },
  {
   "cell_type": "code",
   "execution_count": 53,
   "id": "ef82b352-ee84-42bf-88e4-689acc9b4285",
   "metadata": {},
   "outputs": [
    {
     "data": {
      "text/plain": [
       "True"
      ]
     },
     "execution_count": 53,
     "metadata": {},
     "output_type": "execute_result"
    }
   ],
   "source": [
    "is_student = True\n",
    "is_student"
   ]
  },
  {
   "cell_type": "code",
   "execution_count": null,
   "id": "7fbcce02-bef0-49c9-b677-e8e3bd148afb",
   "metadata": {
    "id": "9fb19f0d"
   },
   "outputs": [],
   "source": [
    "---\n",
    "\n",
    "### Exercise 24:\n",
    "Use a variable to store the result of a modulo operation: `45 % 4`.\n",
    "\n",
    "```python\n",
    "# Exercise 24\n",
    "```"
   ]
  },
  {
   "cell_type": "code",
   "execution_count": 54,
   "id": "9c89449d-3f8c-4a29-8030-429b317bfd1b",
   "metadata": {},
   "outputs": [
    {
     "name": "stdout",
     "output_type": "stream",
     "text": [
      "1\n"
     ]
    }
   ],
   "source": [
    "x = 45\n",
    "y = 4\n",
    "print (x % y)"
   ]
  },
  {
   "cell_type": "code",
   "execution_count": null,
   "id": "86c0f52a-7dff-439d-a091-187015b39355",
   "metadata": {
    "id": "9fb19f0d"
   },
   "outputs": [],
   "source": [
    "---\n",
    "\n",
    "### Exercise 25:\n",
    "Create a variable `pi` and assign it the value `3.14159`.\n",
    "\n",
    "```python\n",
    "# Exercise 25\n",
    "```"
   ]
  },
  {
   "cell_type": "code",
   "execution_count": 55,
   "id": "dd0c1ded-3552-43f7-8626-83ca7745b8ba",
   "metadata": {},
   "outputs": [
    {
     "data": {
      "text/plain": [
       "3.14159"
      ]
     },
     "execution_count": 55,
     "metadata": {},
     "output_type": "execute_result"
    }
   ],
   "source": [
    "pi = 3.14159\n",
    "pi"
   ]
  },
  {
   "cell_type": "code",
   "execution_count": null,
   "id": "44cc64e6-7cf7-49ca-8534-f20cdf98e201",
   "metadata": {
    "id": "9fb19f0d"
   },
   "outputs": [],
   "source": [
    "---\n",
    "\n",
    "### Exercise 26:\n",
    "Create two variables `length` and `width`, assign them values, and calculate the area of a rectangle.\n",
    "\n",
    "```python\n",
    "# Exercise 26\n",
    "```"
   ]
  },
  {
   "cell_type": "code",
   "execution_count": 65,
   "id": "e86dc01b-f2e1-464f-b2a4-e774b2843808",
   "metadata": {},
   "outputs": [
    {
     "name": "stdin",
     "output_type": "stream",
     "text": [
      "the length is :  4\n",
      "the width is:  3\n"
     ]
    },
    {
     "name": "stdout",
     "output_type": "stream",
     "text": [
      " the are of rectangle is  12.0\n"
     ]
    }
   ],
   "source": [
    "length = float(input(\"the length is : \"))\n",
    "width = float(input(\"the width is: \"))\n",
    "area = length * width \n",
    "\n",
    "print(\" the are of rectangle is \", area)\n"
   ]
  },
  {
   "cell_type": "code",
   "execution_count": null,
   "id": "f67df138-d881-4056-8113-cfb8d56d4d67",
   "metadata": {
    "id": "9fb19f0d"
   },
   "outputs": [],
   "source": [
    "---\n",
    "\n",
    "### Exercise 27:\n",
    "Assign a negative number to a variable `negative_value`.\n",
    "\n",
    "```python\n",
    "# Exercise 27\n",
    "```"
   ]
  },
  {
   "cell_type": "code",
   "execution_count": 66,
   "id": "a49da2d8-6dcd-43bc-a761-f64645153195",
   "metadata": {},
   "outputs": [
    {
     "data": {
      "text/plain": [
       "int"
      ]
     },
     "execution_count": 66,
     "metadata": {},
     "output_type": "execute_result"
    }
   ],
   "source": [
    "negative_value = -23\n",
    "type(negative_value)"
   ]
  },
  {
   "cell_type": "code",
   "execution_count": null,
   "id": "c7c4ce6e-55fa-468a-aeaf-08eabb5254cd",
   "metadata": {
    "id": "9fb19f0d"
   },
   "outputs": [],
   "source": [
    "---\n",
    "\n",
    "### Exercise 28:\n",
    "Assign a string containing a special character (e.g., \"Hello, World!\") to a variable `greeting`.\n",
    "\n",
    "```python\n",
    "# Exercise 28\n",
    "```"
   ]
  },
  {
   "cell_type": "code",
   "execution_count": 68,
   "id": "f04c0ab0-1bb0-4e8a-b07b-7384b6fe8d8a",
   "metadata": {},
   "outputs": [
    {
     "name": "stdout",
     "output_type": "stream",
     "text": [
      "hello, world!\n"
     ]
    }
   ],
   "source": [
    "greeting = \"hello, world!\"\n",
    "print(greeting)"
   ]
  },
  {
   "cell_type": "code",
   "execution_count": null,
   "id": "aea7e8d9-b5dd-42f6-9701-118cc53e2fed",
   "metadata": {
    "id": "9fb19f0d"
   },
   "outputs": [],
   "source": [
    "---\n",
    "\n",
    "### Exercise 29:\n",
    "Create a variable `population` and assign it a large integer value (in billions).\n",
    "\n",
    "```python\n",
    "# Exercise 29\n",
    "```"
   ]
  },
  {
   "cell_type": "code",
   "execution_count": 71,
   "id": "6fdc1887-bd9c-4832-a9e3-0f04a623373d",
   "metadata": {},
   "outputs": [
    {
     "name": "stdout",
     "output_type": "stream",
     "text": [
      " 10,000,000,000\n"
     ]
    }
   ],
   "source": [
    "population = 10 ** 10\n",
    "print(f\"{population: ,}\")"
   ]
  },
  {
   "cell_type": "code",
   "execution_count": null,
   "id": "5c727f72-dd20-454f-aa90-9c50fda0b692",
   "metadata": {
    "id": "9fb19f0d"
   },
   "outputs": [],
   "source": [
    "---\n",
    "\n",
    "### Exercise 30:\n",
    "Use a variable to store the result of raising `2` to the power of `8`.\n",
    "\n",
    "```python\n",
    "# Exercise 30\n",
    "```"
   ]
  },
  {
   "cell_type": "code",
   "execution_count": 72,
   "id": "62372776-4969-4ef0-b0cf-0e8db21216a1",
   "metadata": {},
   "outputs": [
    {
     "name": "stdout",
     "output_type": "stream",
     "text": [
      "256\n"
     ]
    }
   ],
   "source": [
    "x = 2\n",
    "y = 8\n",
    "z = x ** y\n",
    "print(z)"
   ]
  },
  {
   "cell_type": "code",
   "execution_count": null,
   "id": "f47ed3c0-8770-4f53-b63f-dde21a517f63",
   "metadata": {
    "id": "9fb19f0d"
   },
   "outputs": [],
   "source": [
    "---\n",
    "\n",
    "### Exercise 31:\n",
    "Assign a list of your favorite fruits to a variable `fruits`.\n",
    "\n",
    "```python\n",
    "# Exercise 31\n",
    "```"
   ]
  },
  {
   "cell_type": "code",
   "execution_count": 73,
   "id": "9e52f315-4d5d-45a0-8e43-2df867e0c11f",
   "metadata": {},
   "outputs": [
    {
     "data": {
      "text/plain": [
       "['banana', 'mango', 'apple']"
      ]
     },
     "execution_count": 73,
     "metadata": {},
     "output_type": "execute_result"
    }
   ],
   "source": [
    "fruits = [\"banana\",\"mango\",\"apple\"]\n",
    "fruits"
   ]
  },
  {
   "cell_type": "code",
   "execution_count": null,
   "id": "4a68f57d-c04c-4f77-9446-840067f647c4",
   "metadata": {
    "id": "9fb19f0d"
   },
   "outputs": [],
   "source": [
    "---\n",
    "\n",
    "### Exercise 32:\n",
    "Assign a tuple of three numbers to a variable `coordinates`.\n",
    "\n",
    "```python\n",
    "# Exercise 32\n",
    "```"
   ]
  },
  {
   "cell_type": "code",
   "execution_count": 77,
   "id": "e9fef42b-b0fb-41ba-9dfb-9418e197e994",
   "metadata": {},
   "outputs": [
    {
     "name": "stdout",
     "output_type": "stream",
     "text": [
      "<class 'tuple'>\n"
     ]
    }
   ],
   "source": [
    "coordinates = (3 , 5 ,7)\n",
    "print(type(coordinates))"
   ]
  },
  {
   "cell_type": "code",
   "execution_count": null,
   "id": "cca94ca8-68f5-4afc-9aee-7f9ef1c6d735",
   "metadata": {
    "id": "9fb19f0d"
   },
   "outputs": [],
   "source": [
    "---\n",
    "\n",
    "### Exercise 33:\n",
    "Assign a dictionary with keys `name` and `age` to a variable `person`.\n",
    "\n",
    "```python\n",
    "# Exercise 33\n",
    "```"
   ]
  },
  {
   "cell_type": "code",
   "execution_count": 79,
   "id": "e661d6ac-df26-4d63-a33c-c89f03b9a38f",
   "metadata": {},
   "outputs": [
    {
     "name": "stdout",
     "output_type": "stream",
     "text": [
      "{'name': 'KANZIGA', 'age': 22}\n"
     ]
    }
   ],
   "source": [
    "person = {\n",
    "\"name\":\"KANZIGA\",\n",
    "\"age\":22\n",
    "}\n",
    "print(person)"
   ]
  },
  {
   "cell_type": "code",
   "execution_count": null,
   "id": "20efced9-43ab-4b2e-9f7c-bdc54dd7cf7c",
   "metadata": {
    "id": "9fb19f0d"
   },
   "outputs": [],
   "source": [
    "---\n",
    "\n",
    "### Exercise 34:\n",
    "Use variables to store the sum of two floating-point numbers.\n",
    "\n",
    "```python\n",
    "# Exercise 34\n",
    "```"
   ]
  },
  {
   "cell_type": "code",
   "execution_count": 82,
   "id": "9ad338d8-df74-4b68-8f13-7e51b9d9b51c",
   "metadata": {},
   "outputs": [
    {
     "name": "stdout",
     "output_type": "stream",
     "text": [
      "['ArithmeticError', 'AssertionError', 'AttributeError', 'BaseException', 'BaseExceptionGroup', 'BlockingIOError', 'BrokenPipeError', 'BufferError', 'BytesWarning', 'ChildProcessError', 'ConnectionAbortedError', 'ConnectionError', 'ConnectionRefusedError', 'ConnectionResetError', 'DeprecationWarning', 'EOFError', 'Ellipsis', 'EncodingWarning', 'EnvironmentError', 'Exception', 'ExceptionGroup', 'False', 'FileExistsError', 'FileNotFoundError', 'FloatingPointError', 'FutureWarning', 'GeneratorExit', 'IOError', 'ImportError', 'ImportWarning', 'IndentationError', 'IndexError', 'InterruptedError', 'IsADirectoryError', 'KeyError', 'KeyboardInterrupt', 'LookupError', 'MemoryError', 'ModuleNotFoundError', 'NameError', 'None', 'NotADirectoryError', 'NotImplemented', 'NotImplementedError', 'OSError', 'OverflowError', 'PendingDeprecationWarning', 'PermissionError', 'ProcessLookupError', 'PythonFinalizationError', 'RecursionError', 'ReferenceError', 'ResourceWarning', 'RuntimeError', 'RuntimeWarning', 'StopAsyncIteration', 'StopIteration', 'SyntaxError', 'SyntaxWarning', 'SystemError', 'SystemExit', 'TabError', 'TimeoutError', 'True', 'TypeError', 'UnboundLocalError', 'UnicodeDecodeError', 'UnicodeEncodeError', 'UnicodeError', 'UnicodeTranslateError', 'UnicodeWarning', 'UserWarning', 'ValueError', 'Warning', 'WindowsError', 'ZeroDivisionError', '_IncompleteInputError', '__IPYTHON__', '__build_class__', '__debug__', '__doc__', '__import__', '__loader__', '__name__', '__package__', '__spec__', 'abs', 'aiter', 'all', 'anext', 'any', 'ascii', 'bin', 'bool', 'breakpoint', 'bytearray', 'bytes', 'callable', 'chr', 'classmethod', 'compile', 'complex', 'copyright', 'credits', 'delattr', 'dict', 'dir', 'display', 'divmod', 'enumerate', 'eval', 'exec', 'execfile', 'filter', 'float', 'format', 'frozenset', 'get_ipython', 'getattr', 'globals', 'hasattr', 'hash', 'help', 'hex', 'id', 'input', 'int', 'isinstance', 'issubclass', 'iter', 'len', 'license', 'list', 'locals', 'map', 'max', 'memoryview', 'min', 'next', 'object', 'oct', 'open', 'ord', 'pow', 'print', 'property', 'range', 'repr', 'reversed', 'round', 'runfile', 'set', 'setattr', 'slice', 'sorted', 'staticmethod', 'str', 'sum', 'super', 'tuple', 'type', 'vars', 'zip']\n"
     ]
    }
   ],
   "source": [
    "print(dir(__builtins__))"
   ]
  },
  {
   "cell_type": "code",
   "execution_count": 83,
   "id": "9f482cb8-0a63-4e3c-a2af-6e6a0cceeb85",
   "metadata": {},
   "outputs": [
    {
     "data": {
      "text/plain": [
       "11.368746"
      ]
     },
     "execution_count": 83,
     "metadata": {},
     "output_type": "execute_result"
    }
   ],
   "source": [
    "result = 6.78976 + 4.578986\n",
    "\n",
    "result"
   ]
  },
  {
   "cell_type": "code",
   "execution_count": null,
   "id": "b35ab0d5-6067-4ced-8716-d13e16f8d1a6",
   "metadata": {
    "id": "9fb19f0d"
   },
   "outputs": [],
   "source": [
    "---\n",
    "\n",
    "### Exercise 35:\n",
    "Create a variable `is_sunny` and assign it the result of a comparison `10 > 5`.\n",
    "\n",
    "```python\n",
    "# Exercise 35\n",
    "```"
   ]
  },
  {
   "cell_type": "code",
   "execution_count": 84,
   "id": "f674e507-db4c-45f2-a7ae-625f20da664d",
   "metadata": {},
   "outputs": [
    {
     "data": {
      "text/plain": [
       "True"
      ]
     },
     "execution_count": 84,
     "metadata": {},
     "output_type": "execute_result"
    }
   ],
   "source": [
    "is_sunny = 10 > 5\n",
    "is_sunny"
   ]
  },
  {
   "cell_type": "code",
   "execution_count": null,
   "id": "df489fcd-0554-426a-b430-d231688932d5",
   "metadata": {
    "id": "9fb19f0d"
   },
   "outputs": [],
   "source": [
    "---\n",
    "\n",
    "### Exercise 36:\n",
    "Assign a string and an integer to two different variables, then print both on one line.\n",
    "\n",
    "```python\n",
    "# Exercise 36\n",
    "```"
   ]
  },
  {
   "cell_type": "code",
   "execution_count": 89,
   "id": "3b2851da-d273-45ab-839b-cc368eca223d",
   "metadata": {},
   "outputs": [
    {
     "name": "stdout",
     "output_type": "stream",
     "text": [
      "bebe 3\n",
      "True True\n",
      "bebe 3\n"
     ]
    }
   ],
   "source": [
    "x = \"bebe\"\n",
    "y = 3\n",
    "print (x,y)\n",
    "print((x == \"bebe\"),(y == 3))\n",
    "print(\"bebe\",3)"
   ]
  },
  {
   "cell_type": "code",
   "execution_count": null,
   "id": "02e058f4-d932-4dc9-9953-fb1caaba0b13",
   "metadata": {
    "id": "9fb19f0d"
   },
   "outputs": [],
   "source": [
    "---\n",
    "\n",
    "### Exercise 37:\n",
    "Reassign a variable that originally held a number to a boolean value.\n",
    "\n",
    "```python\n",
    "# Exercise 37\n",
    "```"
   ]
  },
  {
   "cell_type": "code",
   "execution_count": 92,
   "id": "e009b512-47e8-454c-b7e2-95dc4d3410d8",
   "metadata": {},
   "outputs": [
    {
     "name": "stdout",
     "output_type": "stream",
     "text": [
      "42 <class 'int'>\n",
      "True <class 'bool'>\n"
     ]
    }
   ],
   "source": [
    "value = 42\n",
    "print(value, type(value)) \n",
    "\n",
    "\n",
    "value = True\n",
    "print(value, type(value))"
   ]
  },
  {
   "cell_type": "code",
   "execution_count": null,
   "id": "065406cf-cf6e-4b6c-9844-6655f3a3c908",
   "metadata": {
    "id": "9fb19f0d"
   },
   "outputs": [],
   "source": [
    "---\n",
    "\n",
    "### Exercise 38:\n",
    "Create a variable `is_weekend` and assign it the result of `False`.\n",
    "\n",
    "```python\n",
    "# Exercise 38\n",
    "```"
   ]
  },
  {
   "cell_type": "code",
   "execution_count": null,
   "id": "4175407b-8297-4095-a446-24b39c7602b5",
   "metadata": {},
   "outputs": [],
   "source": [
    "is_weekend = False"
   ]
  },
  {
   "cell_type": "code",
   "execution_count": null,
   "id": "b1f06418-a77b-4bbe-9c19-a5fd3246fab5",
   "metadata": {
    "id": "9fb19f0d"
   },
   "outputs": [],
   "source": [
    "---\n",
    "\n",
    "### Exercise 39:\n",
    "Assign a multi-line string to a variable `description`.\n",
    "\n",
    "```python\n",
    "# Exercise 39\n",
    "```"
   ]
  },
  {
   "cell_type": "code",
   "execution_count": 96,
   "id": "85509fd7-60a6-4ec9-aa41-218aac4a746c",
   "metadata": {},
   "outputs": [
    {
     "name": "stdout",
     "output_type": "stream",
     "text": [
      "Python is a powerful programming language.\n",
      "I like it. \n",
      "I used it everyday.\n"
     ]
    }
   ],
   "source": [
    "description =\"\"\"Python is a powerful programming language.\n",
    "I like it. \n",
    "I used it everyday.\"\"\"\n",
    "  \n",
    "print(description)"
   ]
  },
  {
   "cell_type": "code",
   "execution_count": null,
   "id": "e779295d-7a0a-434f-85d1-7033eef3b853",
   "metadata": {
    "id": "9fb19f0d"
   },
   "outputs": [],
   "source": [
    "---\n",
    "\n",
    "### Exercise 40:\n",
    "Use variables to store the result of the absolute value of `-25`.\n",
    "\n",
    "```python\n",
    "# Exercise 40\n",
    "```"
   ]
  },
  {
   "cell_type": "code",
   "execution_count": 97,
   "id": "a729ab95-84bd-4636-bc2e-03d71a7b4fb1",
   "metadata": {},
   "outputs": [
    {
     "data": {
      "text/plain": [
       "25"
      ]
     },
     "execution_count": 97,
     "metadata": {},
     "output_type": "execute_result"
    }
   ],
   "source": [
    "absolute_value = abs(-25)\n",
    "absolute_value"
   ]
  },
  {
   "cell_type": "code",
   "execution_count": null,
   "id": "98f1b96e-3e6e-4f64-bae3-15e0fba504d2",
   "metadata": {
    "id": "9fb19f0d"
   },
   "outputs": [],
   "source": [
    "---\n",
    "\n",
    "### Exercise 41:\n",
    "Assign the result of a floor division `100 // 6` to a variable `floor_div_result`.\n",
    "\n",
    "```python\n",
    "# Exercise 41\n",
    "```"
   ]
  },
  {
   "cell_type": "code",
   "execution_count": 98,
   "id": "91799d9b-862a-406e-96b1-eaa8b3e86c07",
   "metadata": {},
   "outputs": [
    {
     "data": {
      "text/plain": [
       "16"
      ]
     },
     "execution_count": 98,
     "metadata": {},
     "output_type": "execute_result"
    }
   ],
   "source": [
    "floor_div_result = 100 // 6\n",
    "floor_div_result"
   ]
  },
  {
   "cell_type": "markdown",
   "id": "ef70585a-46ff-4655-85c6-c9b729be3929",
   "metadata": {
    "id": "9fb19f0d"
   },
   "source": [
    "---\n",
    "\n",
    "### Exercise 42:\n",
    "Assign the result of adding a floating-point number to an integer to a variable `mixed_sum`.\n",
    "\n",
    "```python\n",
    "# Exercise 42\n",
    "```"
   ]
  },
  {
   "cell_type": "code",
   "execution_count": 100,
   "id": "f8a257a6-8279-47f6-86ee-23bbe4bb2029",
   "metadata": {},
   "outputs": [
    {
     "data": {
      "text/plain": [
       "5.3"
      ]
     },
     "execution_count": 100,
     "metadata": {},
     "output_type": "execute_result"
    }
   ],
   "source": [
    "mixed_sum = 2.3 + 3\n",
    "mixed_sum"
   ]
  },
  {
   "cell_type": "code",
   "execution_count": null,
   "id": "31ee8b66-3ebb-413f-aa38-469b637213f6",
   "metadata": {
    "id": "9fb19f0d"
   },
   "outputs": [],
   "source": [
    "---\n",
    "\n",
    "\n",
    "### Exercise 43:\n",
    "Assign a boolean value based on the comparison of two variables `a = 10` and `b = 15`.\n",
    "\n",
    "```python\n",
    "# Exercise 43\n",
    "```"
   ]
  },
  {
   "cell_type": "code",
   "execution_count": 101,
   "id": "7c8c6e6f-8250-4846-982e-c6260af1dfbc",
   "metadata": {},
   "outputs": [
    {
     "data": {
      "text/plain": [
       "True"
      ]
     },
     "execution_count": 101,
     "metadata": {},
     "output_type": "execute_result"
    }
   ],
   "source": [
    "a = 10\n",
    "b = 15\n",
    "a_less_b = a < b\n",
    "a_less_b"
   ]
  },
  {
   "cell_type": "code",
   "execution_count": null,
   "id": "0ea3395d-4116-4461-a441-f61384bab499",
   "metadata": {
    "id": "9fb19f0d"
   },
   "outputs": [],
   "source": [
    "---\n",
    "\n",
    "### Exercise 44:\n",
    "Assign a long sentence to a variable and count its characters using `len()`.\n",
    "\n",
    "```python\n",
    "# Exercise 44\n",
    "```"
   ]
  },
  {
   "cell_type": "code",
   "execution_count": 105,
   "id": "141afd13-6646-4877-97d5-8e070d2a14ab",
   "metadata": {},
   "outputs": [
    {
     "data": {
      "text/plain": [
       "68"
      ]
     },
     "execution_count": 105,
     "metadata": {},
     "output_type": "execute_result"
    }
   ],
   "source": [
    "x = len(\"Assign a boolean value based on the comparison of two variables a 23\")\n",
    "x"
   ]
  },
  {
   "cell_type": "code",
   "execution_count": null,
   "id": "8a6044c4-87e0-44d9-bd56-947073df7b41",
   "metadata": {
    "id": "9fb19f0d"
   },
   "outputs": [],
   "source": [
    "---\n",
    "\n",
    "### Exercise 45:\n",
    "Assign a fractional result `7 / 3` to a variable `division_result`.\n",
    "\n",
    "```python\n",
    "# Exercise 45\n",
    "```"
   ]
  },
  {
   "cell_type": "code",
   "execution_count": 106,
   "id": "7c4a92dc-a60b-4841-9d1c-67f028389171",
   "metadata": {},
   "outputs": [
    {
     "data": {
      "text/plain": [
       "2.3333333333333335"
      ]
     },
     "execution_count": 106,
     "metadata": {},
     "output_type": "execute_result"
    }
   ],
   "source": [
    "division_result = 7 / 3\n",
    "division_result\n"
   ]
  },
  {
   "cell_type": "markdown",
   "id": "3d41ee3f-7f22-49b8-9f0b-16d690b1ba56",
   "metadata": {
    "id": "9fb19f0d"
   },
   "source": [
    "---\n",
    "\n",
    "### Exercise 46:\n",
    "Create a variable `speed` and assign it the value of 100 kilometers per hour.\n",
    "\n",
    "```python\n",
    "# Exercise 46\n",
    "```"
   ]
  },
  {
   "cell_type": "code",
   "execution_count": 110,
   "id": "43158971-ebc4-4644-8958-3d18a272f3a5",
   "metadata": {},
   "outputs": [
    {
     "data": {
      "text/plain": [
       "'100 kilometers per hour'"
      ]
     },
     "execution_count": 110,
     "metadata": {},
     "output_type": "execute_result"
    }
   ],
   "source": [
    "speed  = \"100 kilometers per hour\"\n",
    "speed"
   ]
  },
  {
   "cell_type": "markdown",
   "id": "6bbe4ea2-3336-45a6-b7f3-f99a4d7b930a",
   "metadata": {
    "id": "9fb19f0d"
   },
   "source": [
    "---\n",
    "\n",
    "### Exercise 47:\n",
    "Assign a multi-variable equation like `y = 3x + 5` where `x = 4` to a variable `y`.\n",
    "\n",
    "```python\n",
    "# Exercise 47\n",
    "```"
   ]
  },
  {
   "cell_type": "code",
   "execution_count": 112,
   "id": "c01a7a71-59f6-49b1-b728-dba4ba1736d1",
   "metadata": {},
   "outputs": [
    {
     "data": {
      "text/plain": [
       "17"
      ]
     },
     "execution_count": 112,
     "metadata": {},
     "output_type": "execute_result"
    }
   ],
   "source": [
    "x = 4\n",
    "y = 3*x + 5\n",
    "y"
   ]
  },
  {
   "cell_type": "markdown",
   "id": "e0e53c21-c88e-4ae6-b4ef-b3f7cd7a87a6",
   "metadata": {
    "id": "9fb19f0d"
   },
   "source": [
    "---\n",
    "\n",
    "### Exercise 48:\n",
    "Use variables to calculate and store the average of three numbers.\n",
    "\n",
    "```python\n",
    "# Exercise 48\n",
    "```\n",
    "\n",
    "****"
   ]
  },
  {
   "cell_type": "code",
   "execution_count": 115,
   "id": "fcf78492-a607-48f5-b9cc-180b6672cea2",
   "metadata": {},
   "outputs": [
    {
     "name": "stdout",
     "output_type": "stream",
     "text": [
      "4.0\n"
     ]
    }
   ],
   "source": [
    "var1 = 4\n",
    "var2 = 3\n",
    "var3 = 5\n",
    "print ((var1+var2+var3)/3)"
   ]
  }
 ],
 "metadata": {
  "colab": {
   "provenance": []
  },
  "kernelspec": {
   "display_name": "Python 3 (ipykernel)",
   "language": "python",
   "name": "python3"
  },
  "language_info": {
   "codemirror_mode": {
    "name": "ipython",
    "version": 3
   },
   "file_extension": ".py",
   "mimetype": "text/x-python",
   "name": "python",
   "nbconvert_exporter": "python",
   "pygments_lexer": "ipython3",
   "version": "3.13.5"
  }
 },
 "nbformat": 4,
 "nbformat_minor": 5
}
