{
 "cells": [
  {
   "cell_type": "markdown",
   "id": "7d8fc058-31af-4075-b323-9579c3662dbd",
   "metadata": {},
   "source": [
    "# recursive function and rampda function\n",
    "## recursive function"
   ]
  },
  {
   "cell_type": "markdown",
   "id": "73bba01c-7257-4d41-b4c2-117c93f9e73e",
   "metadata": {},
   "source": [
    "### factorial"
   ]
  },
  {
   "cell_type": "code",
   "execution_count": 6,
   "id": "4034c6d3-1acc-4a99-9a4c-faa4f1554c5a",
   "metadata": {},
   "outputs": [
    {
     "data": {
      "text/plain": [
       "6"
      ]
     },
     "execution_count": 6,
     "metadata": {},
     "output_type": "execute_result"
    }
   ],
   "source": [
    "def fact(n):\n",
    "    if n <= 0: #base case\n",
    "        return 1\n",
    "    return n * fact(n-1) #recursive step\n",
    "fact(3)\n",
    "    "
   ]
  },
  {
   "cell_type": "markdown",
   "id": "9980c820-a9a2-4b16-a5a3-26c796869a5b",
   "metadata": {},
   "source": [
    "### fibonacci sequence"
   ]
  },
  {
   "cell_type": "code",
   "execution_count": 17,
   "id": "fcf76ac2-31da-424c-82ab-1f8e96a23681",
   "metadata": {},
   "outputs": [
    {
     "data": {
      "text/plain": [
       "13"
      ]
     },
     "execution_count": 17,
     "metadata": {},
     "output_type": "execute_result"
    }
   ],
   "source": [
    "def fibonc(n):\n",
    "    if n <= 1:\n",
    "        return n\n",
    "    return fibonc(n-1)+fibonc(n-2)\n",
    "fibonc(7)            "
   ]
  },
  {
   "cell_type": "markdown",
   "id": "248c936a-191f-46d5-81c5-cc780f302542",
   "metadata": {},
   "source": [
    "###  lambda function."
   ]
  },
  {
   "cell_type": "code",
   "execution_count": null,
   "id": "5c7860eb-6a2d-414d-984a-8be57add7d82",
   "metadata": {},
   "outputs": [],
   "source": [
    "def "
   ]
  }
 ],
 "metadata": {
  "kernelspec": {
   "display_name": "Python 3 (ipykernel)",
   "language": "python",
   "name": "python3"
  },
  "language_info": {
   "codemirror_mode": {
    "name": "ipython",
    "version": 3
   },
   "file_extension": ".py",
   "mimetype": "text/x-python",
   "name": "python",
   "nbconvert_exporter": "python",
   "pygments_lexer": "ipython3",
   "version": "3.13.5"
  }
 },
 "nbformat": 4,
 "nbformat_minor": 5
}
