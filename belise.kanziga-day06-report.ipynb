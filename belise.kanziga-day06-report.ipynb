{
 "cells": [
  {
   "cell_type": "markdown",
   "id": "b81d6893-8ebe-4a9d-a688-892772179e81",
   "metadata": {},
   "source": [
    "# Flow Control"
   ]
  },
  {
   "cell_type": "code",
   "execution_count": 1,
   "id": "266ac9ff-2239-45a5-b7a4-ac53889c0ce9",
   "metadata": {},
   "outputs": [
    {
     "name": "stdout",
     "output_type": "stream",
     "text": [
      "27\n"
     ]
    }
   ],
   "source": [
    "#if clause\n",
    "a = 27\n",
    "print(a)"
   ]
  },
  {
   "cell_type": "markdown",
   "id": "ba192920-4ea3-43d3-bd76-32a2e140bede",
   "metadata": {},
   "source": [
    "## if condition    "
   ]
  },
  {
   "cell_type": "code",
   "execution_count": 6,
   "id": "2ac10dbc-bce5-483b-9254-e134f3b0af32",
   "metadata": {},
   "outputs": [
    {
     "name": "stdout",
     "output_type": "stream",
     "text": [
      "27\n",
      "yes\n"
     ]
    }
   ],
   "source": [
    "a = 27\n",
    "print(a)\n",
    "if (a == 27):\n",
    "    print('yes')"
   ]
  },
  {
   "cell_type": "code",
   "execution_count": 7,
   "id": "52aaef73-4dfd-4110-a1d6-c6edcfd463da",
   "metadata": {},
   "outputs": [
    {
     "name": "stdout",
     "output_type": "stream",
     "text": [
      "27\n",
      "no\n"
     ]
    }
   ],
   "source": [
    "a = 27\n",
    "print(a)\n",
    "if (a > 29):\n",
    "    print('yes')\n",
    "else:\n",
    "    print('no')"
   ]
  },
  {
   "cell_type": "markdown",
   "id": "d9224776-fc66-43a5-b180-92eba8cd82f5",
   "metadata": {},
   "source": [
    "if... elif ...else"
   ]
  },
  {
   "cell_type": "code",
   "execution_count": 8,
   "id": "894d5edf-d716-475f-8dd4-7d8aaab51dc2",
   "metadata": {},
   "outputs": [
    {
     "name": "stdout",
     "output_type": "stream",
     "text": [
      "is zero\n"
     ]
    }
   ],
   "source": [
    "x = 0\n",
    "if (x > 0):\n",
    "    print('it is positive')\n",
    "elif (x < 0):\n",
    "    print(' it is negative')\n",
    "else:\n",
    "    print('is zero')\n",
    "\n"
   ]
  },
  {
   "cell_type": "code",
   "execution_count": 9,
   "id": "704771f3-8d6d-49d2-973d-e2c91c57bdf9",
   "metadata": {},
   "outputs": [
    {
     "name": "stdout",
     "output_type": "stream",
     "text": [
      "a is greater than b\n",
      "the diff in not\n"
     ]
    }
   ],
   "source": [
    "a = 15\n",
    "b = 10\n",
    "\n",
    "if a>b:\n",
    "    print('a is greater than b')\n",
    "    if (a-b >5):\n",
    "        print('the diff is greater than 5')\n",
    "    else:\n",
    "        print('the diff in not')\n",
    "else:\n",
    "    print('b is greater than a')\n",
    "    "
   ]
  },
  {
   "cell_type": "code",
   "execution_count": 22,
   "id": "26486889-0b68-4232-97dd-915ab46f2b2e",
   "metadata": {},
   "outputs": [
    {
     "name": "stdin",
     "output_type": "stream",
     "text": [
      "enter value of a:  1\n",
      "enter value of b:  2\n",
      "enter value of c:  1\n"
     ]
    },
    {
     "name": "stdout",
     "output_type": "stream",
     "text": [
      "it can work\n",
      "-1.0 -1.0\n"
     ]
    }
   ],
   "source": [
    "a = eval(input('enter value of a: '))\n",
    "b = eval(input('enter value of b: '))\n",
    "c = eval(input('enter value of c: '))\n",
    "delta = (b ** 2) - 4 * a * c\n",
    "if (a != 0):\n",
    "    print('it can work')\n",
    "    if (delta >= 0):\n",
    "        x1 = (-b + (delta)**0.5)/(2*a)\n",
    "        x2 = (-b -(delta)**0.5)/(2*a)\n",
    "        print(x1,x2)\n",
    "    else:\n",
    "        print('this can not work it is complex')\n",
    "else:\n",
    "    print('it can not work a is zero')\n"
   ]
  },
  {
   "cell_type": "markdown",
   "id": "fa40add4-24ec-4cfb-8a86-f1135f3163a8",
   "metadata": {},
   "source": [
    "## loops\n",
    "### while"
   ]
  },
  {
   "cell_type": "code",
   "execution_count": 26,
   "id": "9c17b85f-4eeb-4bb7-a5ec-2f265b06e001",
   "metadata": {},
   "outputs": [
    {
     "name": "stdout",
     "output_type": "stream",
     "text": [
      "the valuse is  1\n",
      "the valuse is  2\n",
      "the valuse is  3\n",
      "the valuse is  4\n",
      "the valuse is  5\n",
      "the valuse is  6\n",
      "the valuse is  7\n",
      "the valuse is  8\n",
      "the valuse is  9\n"
     ]
    }
   ],
   "source": [
    "i = 1\n",
    "while (i<10):\n",
    "    print('the valuse is ',i)\n",
    "    i = i + 1\n"
   ]
  },
  {
   "cell_type": "markdown",
   "id": "ace04121-5ac6-447c-bef2-6bfc93612d95",
   "metadata": {},
   "source": [
    "### for"
   ]
  },
  {
   "cell_type": "code",
   "execution_count": 30,
   "id": "21d29342-6ee5-47ad-a5b0-6b198918dd1e",
   "metadata": {},
   "outputs": [
    {
     "name": "stdout",
     "output_type": "stream",
     "text": [
      "0\n",
      "1\n",
      "2\n",
      "3\n",
      "4\n",
      "5\n",
      "6\n",
      "7\n",
      "8\n",
      "9\n"
     ]
    }
   ],
   "source": [
    "n = 10\n",
    "for i in range(n):\n",
    "    print(i)"
   ]
  },
  {
   "cell_type": "code",
   "execution_count": 32,
   "id": "8ce1118b-c7a3-4139-b59e-47b885ca769f",
   "metadata": {},
   "outputs": [
    {
     "name": "stdout",
     "output_type": "stream",
     "text": [
      "try again\n",
      "we found it\n",
      "try again\n",
      "try again\n"
     ]
    }
   ],
   "source": [
    "list_fr = [3, 5, 'hello', 98]\n",
    "for i in list_fr:\n",
    "    if i == 5:\n",
    "        print('we found it')\n",
    "    else:\n",
    "        print('try again')"
   ]
  },
  {
   "cell_type": "code",
   "execution_count": 35,
   "id": "295da6c1-9abc-4673-866b-1603476acee7",
   "metadata": {},
   "outputs": [
    {
     "name": "stdout",
     "output_type": "stream",
     "text": [
      "the letter T is constant\n",
      "the letter h is constant\n",
      "the letter i is vowwel\n",
      "the letter s is constant\n",
      "this is likely\n",
      "the letter i is vowwel\n",
      "the letter s is constant\n",
      "this is likely\n",
      "the letter t is constant\n",
      "the letter h is constant\n",
      "the letter e is vowwel\n",
      "this is likely\n",
      "the letter s is constant\n",
      "the letter e is vowwel\n",
      "the letter c is constant\n",
      "the letter o is vowwel\n",
      "the letter n is constant\n",
      "the letter d is constant\n",
      "this is likely\n",
      "the letter c is constant\n",
      "the letter l is constant\n",
      "the letter a is vowwel\n",
      "the letter s is constant\n",
      "the letter s is constant\n",
      "this is likely\n",
      "the letter I is vowwel\n",
      "this is likely\n",
      "the letter u is vowwel\n",
      "the letter n is constant\n",
      "the letter d is constant\n",
      "the letter e is vowwel\n",
      "the letter r is constant\n",
      "the letter s is constant\n",
      "the letter t is constant\n",
      "the letter a is vowwel\n",
      "the letter n is constant\n",
      "the letter d is constant\n",
      "this is likely\n",
      "the letter e is vowwel\n",
      "the letter v is constant\n",
      "the letter e is vowwel\n",
      "the letter r is constant\n",
      "the letter y is constant\n",
      "this is likely\n",
      "the letter t is constant\n",
      "the letter h is constant\n",
      "the letter i is vowwel\n",
      "the letter n is constant\n",
      "the letter g is constant\n",
      "the letter . is constant\n"
     ]
    }
   ],
   "source": [
    "#sentence = 'This is the second class I understand every thing.'\n",
    "for letter in sentence:\n",
    "    if letter in 'AEUIOaiuoae':\n",
    "        print('the letter',letter,'is vowwel')\n",
    "    elif letter == ' ':\n",
    "        print('this is likely')\n",
    "    else:\n",
    "        print('the letter',letter,'is constant')\n",
    "    "
   ]
  },
  {
   "cell_type": "code",
   "execution_count": null,
   "id": "619d95c9-ad71-4106-a2db-e239973a5a31",
   "metadata": {},
   "outputs": [],
   "source": []
  }
 ],
 "metadata": {
  "kernelspec": {
   "display_name": "Python 3 (ipykernel)",
   "language": "python",
   "name": "python3"
  },
  "language_info": {
   "codemirror_mode": {
    "name": "ipython",
    "version": 3
   },
   "file_extension": ".py",
   "mimetype": "text/x-python",
   "name": "python",
   "nbconvert_exporter": "python",
   "pygments_lexer": "ipython3",
   "version": "3.13.5"
  }
 },
 "nbformat": 4,
 "nbformat_minor": 5
}
