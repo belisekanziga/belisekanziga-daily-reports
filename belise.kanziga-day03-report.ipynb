{
 "cells": [
  {
   "cell_type": "markdown",
   "id": "b1a6c148-f785-4d26-8043-070a1c90762d",
   "metadata": {},
   "source": [
    "## Strings and files"
   ]
  },
  {
   "cell_type": "code",
   "execution_count": 2,
   "id": "22e59766-74b1-41ed-af06-703b9252ffce",
   "metadata": {},
   "outputs": [],
   "source": [
    "string_1 = \"will you be in the meeting tonight?\"\n",
    "string_2 =  '\"yes.\", he replies.'"
   ]
  },
  {
   "cell_type": "code",
   "execution_count": 3,
   "id": "aacef4bc-6188-4213-821c-3cc864e56a50",
   "metadata": {},
   "outputs": [
    {
     "name": "stdout",
     "output_type": "stream",
     "text": [
      "will you be in the meeting tonight?\n"
     ]
    }
   ],
   "source": [
    "print(string_1)"
   ]
  },
  {
   "cell_type": "code",
   "execution_count": 4,
   "id": "a1ff380d-54cc-4684-b80b-17f9b8b0d9ab",
   "metadata": {},
   "outputs": [
    {
     "name": "stdout",
     "output_type": "stream",
     "text": [
      "\"yes.\", he replies.\n"
     ]
    }
   ],
   "source": [
    "print(string_2)"
   ]
  },
  {
   "cell_type": "markdown",
   "id": "fa2874c5-e63f-4040-b537-106b5cdefe83",
   "metadata": {},
   "source": [
    "## Indexing"
   ]
  },
  {
   "cell_type": "code",
   "execution_count": 5,
   "id": "ea161376-b7f3-4394-a122-9c899c8639a7",
   "metadata": {},
   "outputs": [
    {
     "data": {
      "text/plain": [
       "'w'"
      ]
     },
     "execution_count": 5,
     "metadata": {},
     "output_type": "execute_result"
    }
   ],
   "source": [
    "string_1[0]"
   ]
  },
  {
   "cell_type": "code",
   "execution_count": 6,
   "id": "9ebf83d2-f577-443c-9b18-f644b6e9199e",
   "metadata": {},
   "outputs": [
    {
     "data": {
      "text/plain": [
       "'l'"
      ]
     },
     "execution_count": 6,
     "metadata": {},
     "output_type": "execute_result"
    }
   ],
   "source": [
    "string_1[2]"
   ]
  },
  {
   "cell_type": "code",
   "execution_count": 7,
   "id": "bb97b819-2a6b-4cf6-9cf2-0b2a8811d73d",
   "metadata": {},
   "outputs": [
    {
     "name": "stdout",
     "output_type": "stream",
     "text": [
      "my second one is  i\n"
     ]
    }
   ],
   "source": [
    "print(\"my second one is \", string_1[1])"
   ]
  },
  {
   "cell_type": "code",
   "execution_count": 9,
   "id": "df9e6804-9840-4799-89dd-2561a1e1a325",
   "metadata": {},
   "outputs": [
    {
     "data": {
      "text/plain": [
       "'?'"
      ]
     },
     "execution_count": 9,
     "metadata": {},
     "output_type": "execute_result"
    }
   ],
   "source": [
    "string_1[-1]"
   ]
  },
  {
   "cell_type": "code",
   "execution_count": 10,
   "id": "f12a05bd-05ed-4abb-9fd9-ec71c4f09c97",
   "metadata": {},
   "outputs": [
    {
     "name": "stdout",
     "output_type": "stream",
     "text": [
      "my second one is  ?\n"
     ]
    }
   ],
   "source": [
    "print(\"my second one is \", string_1[-1])"
   ]
  },
  {
   "cell_type": "markdown",
   "id": "9f009408-2080-40e7-97d3-c4b9e53ce5de",
   "metadata": {},
   "source": [
    "## Slicing"
   ]
  },
  {
   "cell_type": "code",
   "execution_count": 12,
   "id": "bdc59415-d02c-448c-a8df-1b9c18705071",
   "metadata": {},
   "outputs": [
    {
     "data": {
      "text/plain": [
       "'l o'"
      ]
     },
     "execution_count": 12,
     "metadata": {},
     "output_type": "execute_result"
    }
   ],
   "source": [
    "string_1[2:8:2] #general formula(start:end:inrement) but on end remove one bcz we started at 0"
   ]
  },
  {
   "cell_type": "code",
   "execution_count": 14,
   "id": "02ab67ae-f569-4e5e-bf55-92ec1b7338f3",
   "metadata": {},
   "outputs": [
    {
     "data": {
      "text/plain": [
       "'yftdrshujikojihugyft'"
      ]
     },
     "execution_count": 14,
     "metadata": {},
     "output_type": "execute_result"
    }
   ],
   "source": [
    "string_3 = 'ghyftdrshujikojihugyft'\n",
    "string_3[2::]"
   ]
  },
  {
   "cell_type": "code",
   "execution_count": 15,
   "id": "7ee09434-3127-4ca8-840d-c7b8380f9f4f",
   "metadata": {},
   "outputs": [
    {
     "data": {
      "text/plain": [
       "'yftdrs'"
      ]
     },
     "execution_count": 15,
     "metadata": {},
     "output_type": "execute_result"
    }
   ],
   "source": [
    "string_3 = 'ghyftdrshujikojihugyft'\n",
    "string_3[2:8:]"
   ]
  },
  {
   "cell_type": "code",
   "execution_count": 16,
   "id": "d0bcd6ae-fec8-4a30-bcb9-c8eadc13b697",
   "metadata": {},
   "outputs": [
    {
     "data": {
      "text/plain": [
       "'ytr'"
      ]
     },
     "execution_count": 16,
     "metadata": {},
     "output_type": "execute_result"
    }
   ],
   "source": [
    "string_3 = 'ghyftdrshujikojihugyft'\n",
    "string_3[2:8:2]"
   ]
  },
  {
   "cell_type": "code",
   "execution_count": 17,
   "id": "b79e908c-470d-482d-8416-7fea5efc1caf",
   "metadata": {},
   "outputs": [
    {
     "data": {
      "text/plain": [
       "'ghyftdrshujikojihugyft'"
      ]
     },
     "execution_count": 17,
     "metadata": {},
     "output_type": "execute_result"
    }
   ],
   "source": [
    "string_3 = 'ghyftdrshujikojihugyft'\n",
    "string_3[::]"
   ]
  },
  {
   "cell_type": "code",
   "execution_count": 18,
   "id": "8a15b643-08dd-42af-a9b3-8da25806e9cb",
   "metadata": {},
   "outputs": [
    {
     "data": {
      "text/plain": [
       "'ghyftdrshujikojihugyft'"
      ]
     },
     "execution_count": 18,
     "metadata": {},
     "output_type": "execute_result"
    }
   ],
   "source": [
    "string_3 = 'ghyftdrshujikojihugyft'\n",
    "string_3[:]"
   ]
  },
  {
   "cell_type": "code",
   "execution_count": 19,
   "id": "07dff726-083b-414b-899b-bc5eaf574381",
   "metadata": {},
   "outputs": [
    {
     "data": {
      "text/plain": [
       "'gh'"
      ]
     },
     "execution_count": 19,
     "metadata": {},
     "output_type": "execute_result"
    }
   ],
   "source": [
    "string_3 = 'ghyftdrshujikojihugyft'\n",
    "string_3[:2]"
   ]
  },
  {
   "cell_type": "code",
   "execution_count": 20,
   "id": "2fc29866-52ec-46ae-8cb7-89b41ed32ba7",
   "metadata": {},
   "outputs": [
    {
     "data": {
      "text/plain": [
       "19"
      ]
     },
     "execution_count": 20,
     "metadata": {},
     "output_type": "execute_result"
    }
   ],
   "source": [
    "len(string_2) #length"
   ]
  },
  {
   "cell_type": "markdown",
   "id": "736515e1-841a-4c78-8300-b44471ef34eb",
   "metadata": {},
   "source": [
    "#### concatinatio"
   ]
  },
  {
   "cell_type": "code",
   "execution_count": 24,
   "id": "5a3fae9d-bc6e-48fb-bbdc-ea91f5af95e4",
   "metadata": {},
   "outputs": [
    {
     "name": "stdout",
     "output_type": "stream",
     "text": [
      "Hello, world\n"
     ]
    }
   ],
   "source": [
    "my_var_1 = 'Hello, '\n",
    "my_var_2 = 'world'\n",
    "concat = my_var_1 + my_var_2\n",
    "print(concat)\n"
   ]
  },
  {
   "cell_type": "code",
   "execution_count": 25,
   "id": "18ea4eb7-095d-46fb-9589-3e17799a4b08",
   "metadata": {},
   "outputs": [
    {
     "name": "stdout",
     "output_type": "stream",
     "text": [
      "Helloworld\n"
     ]
    }
   ],
   "source": [
    "my_var_1 = 'Hello'\n",
    "my_var_2 = 'world'\n",
    "concat2 = my_var_1 + my_var_2\n",
    "print(concat2)"
   ]
  },
  {
   "cell_type": "code",
   "execution_count": 26,
   "id": "a691bb09-ba89-47dc-b0e0-32438a41fa56",
   "metadata": {},
   "outputs": [
    {
     "name": "stdout",
     "output_type": "stream",
     "text": [
      "world\n"
     ]
    }
   ],
   "source": [
    "print(my_var_2)"
   ]
  },
  {
   "cell_type": "code",
   "execution_count": 27,
   "id": "ceceed30-0995-4833-a60f-88f38dbafc63",
   "metadata": {},
   "outputs": [
    {
     "name": "stdout",
     "output_type": "stream",
     "text": [
      "worldworld\n"
     ]
    }
   ],
   "source": [
    "print(2*my_var_2)"
   ]
  },
  {
   "cell_type": "code",
   "execution_count": 28,
   "id": "ecca77e4-800c-432a-b47f-fae6d89f8be0",
   "metadata": {},
   "outputs": [
    {
     "ename": "TypeError",
     "evalue": "can't multiply sequence by non-int of type 'float'",
     "output_type": "error",
     "traceback": [
      "\u001b[1;31m---------------------------------------------------------------------------\u001b[0m",
      "\u001b[1;31mTypeError\u001b[0m                                 Traceback (most recent call last)",
      "Cell \u001b[1;32mIn[28], line 1\u001b[0m\n\u001b[1;32m----> 1\u001b[0m \u001b[38;5;28mprint\u001b[39m(\u001b[38;5;241m2.5\u001b[39m\u001b[38;5;241m*\u001b[39mmy_var_2)\n",
      "\u001b[1;31mTypeError\u001b[0m: can't multiply sequence by non-int of type 'float'"
     ]
    }
   ],
   "source": [
    "print(2.5*my_var_2)"
   ]
  },
  {
   "cell_type": "code",
   "execution_count": 29,
   "id": "b6aae486-d2b9-4527-bf01-85795a8a171b",
   "metadata": {},
   "outputs": [
    {
     "data": {
      "text/plain": [
       "True"
      ]
     },
     "execution_count": 29,
     "metadata": {},
     "output_type": "execute_result"
    }
   ],
   "source": [
    "2 == 2.0"
   ]
  },
  {
   "cell_type": "code",
   "execution_count": 30,
   "id": "26dc223e-aae5-4e7e-9547-fe20b939f433",
   "metadata": {},
   "outputs": [
    {
     "name": "stdout",
     "output_type": "stream",
     "text": [
      "my fovourite fruits is banana\n"
     ]
    }
   ],
   "source": [
    "var_o = \"my fovourite fruits is banana\"\n",
    "print(var_o)"
   ]
  },
  {
   "cell_type": "code",
   "execution_count": 31,
   "id": "cf1e1c68-ed0a-4362-bcbf-c2fce8f14ddf",
   "metadata": {},
   "outputs": [
    {
     "data": {
      "text/plain": [
       "\u001b[1;31mSignature:\u001b[0m \u001b[0mvar_o\u001b[0m\u001b[1;33m.\u001b[0m\u001b[0mcapitalize\u001b[0m\u001b[1;33m(\u001b[0m\u001b[1;33m)\u001b[0m\u001b[1;33m\u001b[0m\u001b[1;33m\u001b[0m\u001b[0m\n",
       "\u001b[1;31mDocstring:\u001b[0m\n",
       "Return a capitalized version of the string.\n",
       "\n",
       "More specifically, make the first character have upper case and the rest lower\n",
       "case.\n",
       "\u001b[1;31mType:\u001b[0m      builtin_function_or_method"
      ]
     },
     "metadata": {},
     "output_type": "display_data"
    }
   ],
   "source": [
    "?var_o.capitalize"
   ]
  },
  {
   "cell_type": "code",
   "execution_count": 32,
   "id": "7aab24b8-955c-4be1-8cea-78eef016e40f",
   "metadata": {},
   "outputs": [
    {
     "data": {
      "text/plain": [
       "'My fovourite fruits is banana'"
      ]
     },
     "execution_count": 32,
     "metadata": {},
     "output_type": "execute_result"
    }
   ],
   "source": [
    "var_o.capitalize()"
   ]
  },
  {
   "cell_type": "code",
   "execution_count": 33,
   "id": "2185ebc0-47e4-4aee-b226-9c5701ae0bc9",
   "metadata": {},
   "outputs": [
    {
     "data": {
      "text/plain": [
       "\u001b[1;31mDocstring:\u001b[0m\n",
       "Return the number of non-overlapping occurrences of substring sub in string S[start:end].\n",
       "\n",
       "Optional arguments start and end are interpreted as in slice notation.\n",
       "\u001b[1;31mType:\u001b[0m      builtin_function_or_method"
      ]
     },
     "metadata": {},
     "output_type": "display_data"
    }
   ],
   "source": [
    "?var_o.count"
   ]
  },
  {
   "cell_type": "code",
   "execution_count": 36,
   "id": "47bf7d1f-91c6-4009-9721-8a3aa0e29556",
   "metadata": {},
   "outputs": [
    {
     "data": {
      "text/plain": [
       "1"
      ]
     },
     "execution_count": 36,
     "metadata": {},
     "output_type": "execute_result"
    }
   ],
   "source": [
    "var_o.count('banana')"
   ]
  },
  {
   "cell_type": "code",
   "execution_count": 59,
   "id": "512b9eab-9e31-4278-84b3-57ebeeeb8f77",
   "metadata": {},
   "outputs": [
    {
     "name": "stdout",
     "output_type": "stream",
     "text": [
      "['hello', 'world', 'mine']\n"
     ]
    }
   ],
   "source": [
    "var_v = ['hello','world','mine']\n",
    "print(var_v)"
   ]
  },
  {
   "cell_type": "code",
   "execution_count": 47,
   "id": "c86cf6e9-cd20-47bf-ae23-a08aaf7e683f",
   "metadata": {},
   "outputs": [
    {
     "data": {
      "text/plain": [
       "\u001b[1;31mSignature:\u001b[0m \u001b[0mvar_v\u001b[0m\u001b[1;33m.\u001b[0m\u001b[0mreverse\u001b[0m\u001b[1;33m(\u001b[0m\u001b[1;33m)\u001b[0m\u001b[1;33m\u001b[0m\u001b[1;33m\u001b[0m\u001b[0m\n",
       "\u001b[1;31mDocstring:\u001b[0m Reverse *IN PLACE*.\n",
       "\u001b[1;31mType:\u001b[0m      builtin_function_or_method"
      ]
     },
     "metadata": {},
     "output_type": "display_data"
    }
   ],
   "source": [
    "?var_v.reverse"
   ]
  },
  {
   "cell_type": "code",
   "execution_count": 60,
   "id": "ecdeaff5-66e7-4163-89e0-16376d9141cf",
   "metadata": {},
   "outputs": [],
   "source": [
    "var_v.reverse()"
   ]
  },
  {
   "cell_type": "code",
   "execution_count": 61,
   "id": "3a9177b9-cb1a-47d0-be4a-22e88c1423ee",
   "metadata": {},
   "outputs": [
    {
     "data": {
      "text/plain": [
       "['mine', 'world', 'hello']"
      ]
     },
     "execution_count": 61,
     "metadata": {},
     "output_type": "execute_result"
    }
   ],
   "source": [
    "var_v"
   ]
  },
  {
   "cell_type": "code",
   "execution_count": 62,
   "id": "e75ed699-f1e6-4605-a40b-046305a9b18a",
   "metadata": {},
   "outputs": [
    {
     "data": {
      "text/plain": [
       "'my name is KANZIGA'"
      ]
     },
     "execution_count": 62,
     "metadata": {},
     "output_type": "execute_result"
    }
   ],
   "source": [
    "byt_w = 'my name is KANZIGA'\n",
    "byt_w"
   ]
  },
  {
   "cell_type": "code",
   "execution_count": 63,
   "id": "2f1a4483-fdad-4897-a15e-752b878ba69a",
   "metadata": {},
   "outputs": [
    {
     "data": {
      "text/plain": [
       "\u001b[1;31mSignature:\u001b[0m \u001b[0mbyt_w\u001b[0m\u001b[1;33m.\u001b[0m\u001b[0mcapitalize\u001b[0m\u001b[1;33m(\u001b[0m\u001b[1;33m)\u001b[0m\u001b[1;33m\u001b[0m\u001b[1;33m\u001b[0m\u001b[0m\n",
       "\u001b[1;31mDocstring:\u001b[0m\n",
       "Return a capitalized version of the string.\n",
       "\n",
       "More specifically, make the first character have upper case and the rest lower\n",
       "case.\n",
       "\u001b[1;31mType:\u001b[0m      builtin_function_or_method"
      ]
     },
     "metadata": {},
     "output_type": "display_data"
    }
   ],
   "source": [
    "?byt_w.capitalize"
   ]
  },
  {
   "cell_type": "code",
   "execution_count": 65,
   "id": "93e6c8e5-bd22-4256-80fd-a95948e1086d",
   "metadata": {},
   "outputs": [
    {
     "data": {
      "text/plain": [
       "'My name is kanziga'"
      ]
     },
     "execution_count": 65,
     "metadata": {},
     "output_type": "execute_result"
    }
   ],
   "source": [
    "byt_w.capitalize()"
   ]
  },
  {
   "cell_type": "code",
   "execution_count": 66,
   "id": "a8730196-0917-4819-b3cc-09292e5f9088",
   "metadata": {},
   "outputs": [
    {
     "data": {
      "text/plain": [
       "\u001b[1;31mSignature:\u001b[0m \u001b[0mbyt_w\u001b[0m\u001b[1;33m.\u001b[0m\u001b[0misalnum\u001b[0m\u001b[1;33m(\u001b[0m\u001b[1;33m)\u001b[0m\u001b[1;33m\u001b[0m\u001b[1;33m\u001b[0m\u001b[0m\n",
       "\u001b[1;31mDocstring:\u001b[0m\n",
       "Return True if the string is an alpha-numeric string, False otherwise.\n",
       "\n",
       "A string is alpha-numeric if all characters in the string are alpha-numeric and\n",
       "there is at least one character in the string.\n",
       "\u001b[1;31mType:\u001b[0m      builtin_function_or_method"
      ]
     },
     "metadata": {},
     "output_type": "display_data"
    }
   ],
   "source": [
    "?byt_w.isalnum"
   ]
  },
  {
   "cell_type": "code",
   "execution_count": 67,
   "id": "b5414e44-5463-4ea4-a817-214db8217046",
   "metadata": {},
   "outputs": [
    {
     "data": {
      "text/plain": [
       "False"
      ]
     },
     "execution_count": 67,
     "metadata": {},
     "output_type": "execute_result"
    }
   ],
   "source": [
    "byt_w.isalnum()"
   ]
  },
  {
   "cell_type": "code",
   "execution_count": 68,
   "id": "fd9bd44e-32db-4bec-98c4-c4f488dcf711",
   "metadata": {},
   "outputs": [
    {
     "data": {
      "text/plain": [
       "\u001b[1;31mSignature:\u001b[0m \u001b[0mbyt_w\u001b[0m\u001b[1;33m.\u001b[0m\u001b[0misdecimal\u001b[0m\u001b[1;33m(\u001b[0m\u001b[1;33m)\u001b[0m\u001b[1;33m\u001b[0m\u001b[1;33m\u001b[0m\u001b[0m\n",
       "\u001b[1;31mDocstring:\u001b[0m\n",
       "Return True if the string is a decimal string, False otherwise.\n",
       "\n",
       "A string is a decimal string if all characters in the string are decimal and\n",
       "there is at least one character in the string.\n",
       "\u001b[1;31mType:\u001b[0m      builtin_function_or_method"
      ]
     },
     "metadata": {},
     "output_type": "display_data"
    }
   ],
   "source": [
    "?byt_w.isdecimal"
   ]
  },
  {
   "cell_type": "code",
   "execution_count": 70,
   "id": "29ab8913-c5b2-40b0-b197-c2edba24134f",
   "metadata": {},
   "outputs": [
    {
     "data": {
      "text/plain": [
       "'2.5'"
      ]
     },
     "execution_count": 70,
     "metadata": {},
     "output_type": "execute_result"
    }
   ],
   "source": [
    "bb = '2.5'\n",
    "bb"
   ]
  },
  {
   "cell_type": "code",
   "execution_count": 71,
   "id": "6c2e1585-1149-4aec-b1f3-5ba8300ef8ec",
   "metadata": {},
   "outputs": [
    {
     "data": {
      "text/plain": [
       "False"
      ]
     },
     "execution_count": 71,
     "metadata": {},
     "output_type": "execute_result"
    }
   ],
   "source": [
    "bb.isdecimal()"
   ]
  },
  {
   "cell_type": "code",
   "execution_count": 72,
   "id": "5fb69143-3b82-4725-b189-6c6c8afed5cb",
   "metadata": {},
   "outputs": [
    {
     "data": {
      "text/plain": [
       "'2.5'"
      ]
     },
     "execution_count": 72,
     "metadata": {},
     "output_type": "execute_result"
    }
   ],
   "source": [
    "bb.capitalize()"
   ]
  },
  {
   "cell_type": "code",
   "execution_count": 73,
   "id": "c826fe98-40fa-48e6-bba2-16c95619953f",
   "metadata": {},
   "outputs": [
    {
     "data": {
      "text/plain": [
       "'my name is KANZIGA'"
      ]
     },
     "execution_count": 73,
     "metadata": {},
     "output_type": "execute_result"
    }
   ],
   "source": [
    "byt_w = 'my name is KANZIGA'\n",
    "byt_w"
   ]
  },
  {
   "cell_type": "code",
   "execution_count": 74,
   "id": "c4380e9a-632a-49fa-a7ef-1040349ac643",
   "metadata": {},
   "outputs": [
    {
     "data": {
      "text/plain": [
       "\u001b[1;31mSignature:\u001b[0m \u001b[0mbyt_w\u001b[0m\u001b[1;33m.\u001b[0m\u001b[0mcasefold\u001b[0m\u001b[1;33m(\u001b[0m\u001b[1;33m)\u001b[0m\u001b[1;33m\u001b[0m\u001b[1;33m\u001b[0m\u001b[0m\n",
       "\u001b[1;31mDocstring:\u001b[0m Return a version of the string suitable for caseless comparisons.\n",
       "\u001b[1;31mType:\u001b[0m      builtin_function_or_method"
      ]
     },
     "metadata": {},
     "output_type": "display_data"
    }
   ],
   "source": [
    "?byt_w.casefold"
   ]
  },
  {
   "cell_type": "code",
   "execution_count": 75,
   "id": "c3ea692c-a1f5-4045-8260-f94b923bde46",
   "metadata": {},
   "outputs": [
    {
     "data": {
      "text/plain": [
       "'my name is kanziga'"
      ]
     },
     "execution_count": 75,
     "metadata": {},
     "output_type": "execute_result"
    }
   ],
   "source": [
    "byt_w.casefold()"
   ]
  },
  {
   "cell_type": "code",
   "execution_count": 76,
   "id": "a749f382-bf55-46a0-a2fc-226cc5d9a047",
   "metadata": {},
   "outputs": [
    {
     "data": {
      "text/plain": [
       "\u001b[1;31mSignature:\u001b[0m \u001b[0mbyt_w\u001b[0m\u001b[1;33m.\u001b[0m\u001b[0mcasefold\u001b[0m\u001b[1;33m(\u001b[0m\u001b[1;33m)\u001b[0m\u001b[1;33m\u001b[0m\u001b[1;33m\u001b[0m\u001b[0m\n",
       "\u001b[1;31mDocstring:\u001b[0m Return a version of the string suitable for caseless comparisons.\n",
       "\u001b[1;31mType:\u001b[0m      builtin_function_or_method"
      ]
     },
     "metadata": {},
     "output_type": "display_data"
    }
   ],
   "source": [
    "?byt_w.casefold"
   ]
  },
  {
   "cell_type": "code",
   "execution_count": 77,
   "id": "12f6439b-ed4a-44b7-813f-6aeb6ade7bc2",
   "metadata": {},
   "outputs": [
    {
     "data": {
      "text/plain": [
       "\u001b[1;31mSignature:\u001b[0m \u001b[0mbyt_w\u001b[0m\u001b[1;33m.\u001b[0m\u001b[0mremoveprefix\u001b[0m\u001b[1;33m(\u001b[0m\u001b[0mprefix\u001b[0m\u001b[1;33m,\u001b[0m \u001b[1;33m/\u001b[0m\u001b[1;33m)\u001b[0m\u001b[1;33m\u001b[0m\u001b[1;33m\u001b[0m\u001b[0m\n",
       "\u001b[1;31mDocstring:\u001b[0m\n",
       "Return a str with the given prefix string removed if present.\n",
       "\n",
       "If the string starts with the prefix string, return string[len(prefix):].\n",
       "Otherwise, return a copy of the original string.\n",
       "\u001b[1;31mType:\u001b[0m      builtin_function_or_method"
      ]
     },
     "metadata": {},
     "output_type": "display_data"
    }
   ],
   "source": [
    "?byt_w.removeprefix"
   ]
  },
  {
   "cell_type": "code",
   "execution_count": 78,
   "id": "efc94f2b-3fc0-45ec-a6fb-aa4a46bc0dd5",
   "metadata": {},
   "outputs": [
    {
     "ename": "SyntaxError",
     "evalue": "invalid syntax (3060545439.py, line 1)",
     "output_type": "error",
     "traceback": [
      "\u001b[1;36m  Cell \u001b[1;32mIn[78], line 1\u001b[1;36m\u001b[0m\n\u001b[1;33m    byt_w.removeprefix(prefix, /)\u001b[0m\n\u001b[1;37m                               ^\u001b[0m\n\u001b[1;31mSyntaxError\u001b[0m\u001b[1;31m:\u001b[0m invalid syntax\n"
     ]
    }
   ],
   "source": [
    "byt_w.removeprefix(prefix, /)"
   ]
  },
  {
   "cell_type": "code",
   "execution_count": 89,
   "id": "69cc26d5-219c-4ba3-b961-47d47b812eb0",
   "metadata": {},
   "outputs": [],
   "source": [
    "filename = 'textfile.txt'\n",
    "file = open(filename, 'w')\n",
    "file.write('''fghij.aims class.\n",
    "rwanda 2025.\n",
    "this is really cool.\n",
    "''')\n",
    "file.close()"
   ]
  },
  {
   "cell_type": "code",
   "execution_count": 92,
   "id": "3ccae6a0-babc-4175-ac0e-9fb3028cd0f1",
   "metadata": {},
   "outputs": [
    {
     "name": "stdout",
     "output_type": "stream",
     "text": [
      " Volume in drive C has no label.\n",
      " Volume Serial Number is 1A9B-A028\n",
      "\n",
      " Directory of C:\\Users\\pc\n",
      "\n",
      "25/09/2025  12:29    <DIR>          .\n",
      "17/09/2025  11:54    <DIR>          ..\n",
      "10/08/2025  21:33    <DIR>          .anaconda\n",
      "10/08/2025  21:33    <DIR>          .conda\n",
      "10/08/2025  21:33                25 .condarc\n",
      "10/08/2025  21:33    <DIR>          .continuum\n",
      "22/09/2025  16:44               190 .gitconfig\n",
      "25/09/2025  11:09    <DIR>          .ipynb_checkpoints\n",
      "10/08/2025  21:35    <DIR>          .ipython\n",
      "10/08/2025  21:57    <DIR>          .jupyter\n",
      "16/08/2025  17:29    <DIR>          .matplotlib\n",
      "11/08/2025  10:16    <DIR>          .vscode\n",
      "08/08/2025  04:30    <DIR>          3D Objects\n",
      "10/08/2025  21:32    <DIR>          anaconda3\n",
      "18/09/2025  13:07    <DIR>          Contacts\n",
      "25/09/2025  12:28            26,429 day3.ipynb\n",
      "22/09/2025  16:10    <DIR>          Desktop\n",
      "22/09/2025  21:46    <DIR>          Documents\n",
      "24/09/2025  20:40    <DIR>          Downloads\n",
      "18/09/2025  13:07    <DIR>          Favorites\n",
      "18/09/2025  13:07    <DIR>          Links\n",
      "18/09/2025  13:07    <DIR>          Music\n",
      "20/09/2025  07:57    <DIR>          OneDrive\n",
      "22/09/2025  19:27    <DIR>          Pictures\n",
      "18/09/2025  13:07    <DIR>          Saved Games\n",
      "18/09/2025  13:07    <DIR>          Searches\n",
      "25/09/2025  12:29                55 textfile.txt\n",
      "10/08/2025  21:37               617 Untitled.ipynb\n",
      "10/08/2025  21:58               617 Untitled1.ipynb\n",
      "22/08/2025  12:12               617 Untitled2.ipynb\n",
      "22/08/2025  15:47            91,689 Untitled3.ipynb\n",
      "18/09/2025  13:07    <DIR>          Videos\n",
      "               8 File(s)        120,239 bytes\n",
      "              24 Dir(s)  401,657,360,384 bytes free\n"
     ]
    }
   ],
   "source": [
    "!dir"
   ]
  },
  {
   "cell_type": "code",
   "execution_count": 95,
   "id": "0d03064d-6862-47ac-987d-4bdececa3296",
   "metadata": {},
   "outputs": [],
   "source": [
    "# %load textfile.txt\n",
    "fghij.aims class.\n",
    "rwanda 2025.\n",
    "this is really cool.\n"
   ]
  },
  {
   "cell_type": "code",
   "execution_count": 97,
   "id": "bab852b5-a101-42d8-b98a-e2d93c9647d9",
   "metadata": {},
   "outputs": [],
   "source": [
    "f = open('textfile.txt','r')\n"
   ]
  },
  {
   "cell_type": "code",
   "execution_count": 98,
   "id": "7063cacd-fee8-4a0f-9a84-448501ebc970",
   "metadata": {},
   "outputs": [
    {
     "data": {
      "text/plain": [
       "_io.TextIOWrapper"
      ]
     },
     "execution_count": 98,
     "metadata": {},
     "output_type": "execute_result"
    }
   ],
   "source": [
    "type(f)"
   ]
  },
  {
   "cell_type": "code",
   "execution_count": 99,
   "id": "1c9c4c91-23d7-4b61-b08f-5c0a2716447c",
   "metadata": {},
   "outputs": [
    {
     "data": {
      "text/plain": [
       "['fghij.aims class.\\n', 'rwanda 2025.\\n', 'this is really cool.\\n']"
      ]
     },
     "execution_count": 99,
     "metadata": {},
     "output_type": "execute_result"
    }
   ],
   "source": [
    "f.readlines()"
   ]
  },
  {
   "cell_type": "code",
   "execution_count": 100,
   "id": "062184d3-fa77-4f7d-91be-319e5ea7a1c3",
   "metadata": {},
   "outputs": [
    {
     "data": {
      "text/plain": [
       "<_io.TextIOWrapper name='textfile.txt' mode='r' encoding='cp1252'>"
      ]
     },
     "execution_count": 100,
     "metadata": {},
     "output_type": "execute_result"
    }
   ],
   "source": [
    "f"
   ]
  },
  {
   "cell_type": "code",
   "execution_count": 101,
   "id": "10cdb229-fca7-47fd-83a9-2dc69a3a3592",
   "metadata": {},
   "outputs": [
    {
     "data": {
      "text/plain": [
       "''"
      ]
     },
     "execution_count": 101,
     "metadata": {},
     "output_type": "execute_result"
    }
   ],
   "source": [
    "f.read()"
   ]
  },
  {
   "cell_type": "code",
   "execution_count": 102,
   "id": "6574d937-54d9-4cf3-901a-ec70bb4e6db6",
   "metadata": {},
   "outputs": [
    {
     "data": {
      "text/plain": [
       "<function TextIOWrapper.close()>"
      ]
     },
     "execution_count": 102,
     "metadata": {},
     "output_type": "execute_result"
    }
   ],
   "source": [
    "f.close"
   ]
  },
  {
   "cell_type": "code",
   "execution_count": 109,
   "id": "4ff23ad5-a53d-4d13-b7e4-54d437167c6f",
   "metadata": {},
   "outputs": [],
   "source": [
    "write_other = open('textfile.txt', 'a') #to add otherthing in textfile.txt\n",
    "write_other.write(',my things')\n",
    "write_other.close()"
   ]
  },
  {
   "cell_type": "code",
   "execution_count": 110,
   "id": "65178fdb-d1cc-4dde-9ada-ea24985e9963",
   "metadata": {},
   "outputs": [
    {
     "data": {
      "text/plain": [
       "['my thingsmy things,my things']"
      ]
     },
     "execution_count": 110,
     "metadata": {},
     "output_type": "execute_result"
    }
   ],
   "source": [
    "write_other = open('textfile.txt', 'r')\n",
    "write_other.readlines()"
   ]
  },
  {
   "cell_type": "code",
   "execution_count": null,
   "id": "f0beec94-e397-4bdf-a17b-381f0fc0b9fc",
   "metadata": {},
   "outputs": [],
   "source": []
  }
 ],
 "metadata": {
  "kernelspec": {
   "display_name": "Python 3 (ipykernel)",
   "language": "python",
   "name": "python3"
  },
  "language_info": {
   "codemirror_mode": {
    "name": "ipython",
    "version": 3
   },
   "file_extension": ".py",
   "mimetype": "text/x-python",
   "name": "python",
   "nbconvert_exporter": "python",
   "pygments_lexer": "ipython3",
   "version": "3.13.5"
  }
 },
 "nbformat": 4,
 "nbformat_minor": 5
}
